{
 "cells": [
  {
   "cell_type": "code",
   "execution_count": 1,
   "id": "1b03a367-3148-4230-a756-0022ac8fc94a",
   "metadata": {},
   "outputs": [],
   "source": [
    "#libraries import\n",
    "\n",
    "from bs4 import BeautifulSoup\n",
    "import requests\n",
    "import time\n",
    "import datetime\n",
    "\n",
    "import smtplib"
   ]
  },
  {
   "cell_type": "code",
   "execution_count": null,
   "id": "41608fad-ffa4-403d-a695-274da64d2d77",
   "metadata": {},
   "outputs": [],
   "source": [
    "#connect to the website\n",
    "\n",
    "URL='https://www.amazon.com/Data-Analyst-Definition-Analysis-Distressed/dp/B0C1THH2KF/ref=sr_1_4?dib=eyJ2IjoiMSJ9.ZppBLSWPvPm5RFqNGsT3VbOV9abdavNh4Eemx_mqpmle-0qD6Kc7GmaXjEJyFxx48z7OV4eujp0E8gbjzWK4YrYOJRHcGZ1Bzdl_E7Sl3qTWPObE4te8sq6rtKoNyr1qk8TVMVvnHrv1-RUVo8HIWo3KwDdQSMDCuZZA8EJS0CvNC2_HCsgRwW-wl6f8CLCgxQ1gBmJgviGU3nE_ZFqf4uLM-mM2YDP6v43LTVtOAAqWlet-tqpnDhVa3k992HjwYgXgfAm4wPU4YqvjdXwu9edfDH0g4u7jJfMvgAmKMX0.F6E2hQ_XGpkuZT4rAKVJQ5kraswkRsT3UB5NuE1rVDY&dib_tag=se&keywords=data%2Banalysis%2Btshirt&qid=1720687211&sr=8-4&customId=B0752XJYNL&customizationToken=MC_Assembly_1%23B0752XJYNL&th=1https://www.amazon.com/Data-Analyst-Definition-Analysis-Distressed/dp/B0C1THH2KF/ref=sr_1_4?dib=eyJ2IjoiMSJ9.ZppBLSWPvPm5RFqNGsT3VbOV9abdavNh4Eemx_mqpmle-0qD6Kc7GmaXjEJyFxx48z7OV4eujp0E8gbjzWK4YrYOJRHcGZ1Bzdl_E7Sl3qTWPObE4te8sq6rtKoNyr1qk8TVMVvnHrv1-RUVo8HIWo3KwDdQSMDCuZZA8EJS0CvNC2_HCsgRwW-wl6f8CLCgxQ1gBmJgviGU3nE_ZFqf4uLM-mM2YDP6v43LTVtOAAqWlet-tqpnDhVa3k992HjwYgXgfAm4wPU4YqvjdXwu9edfDH0g4u7jJfMvgAmKMX0.F6E2hQ_XGpkuZT4rAKVJQ5kraswkRsT3UB5NuE1rVDY&dib_tag=se&keywords=data%2Banalysis%2Btshirt&qid=1720687211&sr=8-4&customId=B0752XJYNL&customizationToken=MC_Assembly_1%23B0752XJYNL&th=1'\n",
    "\n",
    "headers={\"User-Agent\": \"Mozilla/5.0 (Windows NT 10.0; Win64; x64) AppleWebKit/537.36 (KHTML, like Gecko) Chrome/78.0.3904.108 Safari/537.36\", \"Accept-Encoding\":\"gzip, deflate\", \"Accept\":\"text/html,application/xhtml+xml,application/xml;q=0.9,*/*;q=0.8\", \"DNT\":\"1\",\"Connection\":\"close\", \"Upgrade-Insecure-Requests\":\"1\"}\n",
    "\n",
    "page=requests.get(URL,headers=headers)\n",
    "\n",
    "soup1=BeautifulSoup(page.content,'html.parser')\n",
    "\n",
    "soup2=BeautifulSoup(soup1.prettify(),'html.parser')\n",
    "\n",
    "title=soup2.find(id='productTitle').get_text()\n",
    "\n",
    "price=soup2.find(class_='a-offscreen').get_text()\n",
    "\n",
    "print(title)\n",
    "print(price)"
   ]
  },
  {
   "cell_type": "code",
   "execution_count": null,
   "id": "ad494db8-50d8-49de-af49-ae4cfc29a9fe",
   "metadata": {},
   "outputs": [],
   "source": []
  },
  {
   "cell_type": "code",
   "execution_count": 4,
   "id": "9066555c-8d8a-488e-821a-7c6bd22fedc4",
   "metadata": {},
   "outputs": [
    {
     "name": "stdout",
     "output_type": "stream",
     "text": [
      "Data Analyst Definition Data Analysis Distressed T-Shirt\n",
      "17.99\n"
     ]
    }
   ],
   "source": [
    "#whitespaces remove\n",
    "\n",
    "price=price.strip()[1:]\n",
    "title=title.strip()\n",
    "\n",
    "print(title)\n",
    "print(price)"
   ]
  },
  {
   "cell_type": "code",
   "execution_count": 5,
   "id": "6c459b4a-48fc-43fa-b839-4e7b7c232755",
   "metadata": {},
   "outputs": [
    {
     "name": "stdout",
     "output_type": "stream",
     "text": [
      "2024-07-11\n"
     ]
    }
   ],
   "source": [
    "#date set\n",
    "\n",
    "import datetime\n",
    "\n",
    "today=datetime.date.today()\n",
    "\n",
    "print(today)"
   ]
  },
  {
   "cell_type": "code",
   "execution_count": 7,
   "id": "e52b717c-ee70-43f0-ac43-de5f21831549",
   "metadata": {},
   "outputs": [],
   "source": [
    "#csv file create\n",
    "\n",
    "import csv\n",
    "\n",
    "header=['Title','Price','Date']\n",
    "data=[title,price,today]\n",
    "\n",
    "with open('AmazonPriceStagScrapo.csv','w',newline='',encoding='UTF-8')as f:\n",
    "    writer=csv.writer(f)\n",
    "    writer.writerow(header)\n",
    "    writer.writerow(data)\n",
    "    "
   ]
  },
  {
   "cell_type": "code",
   "execution_count": 16,
   "id": "cf18b16a-d257-459a-ad62-607c248ae572",
   "metadata": {},
   "outputs": [
    {
     "name": "stdout",
     "output_type": "stream",
     "text": [
      "                                               Title  Price        Date\n",
      "0  Data Analyst Definition Data Analysis Distress...  17.99  2024-07-11\n",
      "1  Data Analyst Definition Data Analysis Distress...  17.99  2024-07-11\n",
      "2  Data Analyst Definition Data Analysis Distress...  17.99  2024-07-11\n",
      "3  Data Analyst Definition Data Analysis Distress...  17.99  2024-07-11\n"
     ]
    }
   ],
   "source": [
    "import pandas as pd\n",
    "\n",
    "df=pd.read_csv(r'C:\\Users\\SAM MELKIN\\AmazonPriceStagScrapo.csv')\n",
    "\n",
    "print(df)"
   ]
  },
  {
   "cell_type": "code",
   "execution_count": 15,
   "id": "f2bc8af1-fe3b-4930-a105-3cc2e9b81393",
   "metadata": {},
   "outputs": [],
   "source": [
    "#now we are appending data to the csv\n",
    "\n",
    "with open('AmazonPriceStagScrapo.csv','a+',newline='',encoding='UTF8')as f:\n",
    "    writer=csv.writer(f)\n",
    "    writer.writerow(data)"
   ]
  },
  {
   "cell_type": "code",
   "execution_count": 24,
   "id": "08076df0-f3bb-40a4-b749-95092177c303",
   "metadata": {},
   "outputs": [],
   "source": [
    "def check_price():\n",
    "    URL='https://www.amazon.com/Data-Analyst-Definition-Analysis-Distressed/dp/B0C1THH2KF/ref=sr_1_4?dib=eyJ2IjoiMSJ9.ZppBLSWPvPm5RFqNGsT3VbOV9abdavNh4Eemx_mqpmle-0qD6Kc7GmaXjEJyFxx48z7OV4eujp0E8gbjzWK4YrYOJRHcGZ1Bzdl_E7Sl3qTWPObE4te8sq6rtKoNyr1qk8TVMVvnHrv1-RUVo8HIWo3KwDdQSMDCuZZA8EJS0CvNC2_HCsgRwW-wl6f8CLCgxQ1gBmJgviGU3nE_ZFqf4uLM-mM2YDP6v43LTVtOAAqWlet-tqpnDhVa3k992HjwYgXgfAm4wPU4YqvjdXwu9edfDH0g4u7jJfMvgAmKMX0.F6E2hQ_XGpkuZT4rAKVJQ5kraswkRsT3UB5NuE1rVDY&dib_tag=se&keywords=data%2Banalysis%2Btshirt&qid=1720687211&sr=8-4&customId=B0752XJYNL&customizationToken=MC_Assembly_1%23B0752XJYNL&th=1https://www.amazon.com/Data-Analyst-Definition-Analysis-Distressed/dp/B0C1THH2KF/ref=sr_1_4?dib=eyJ2IjoiMSJ9.ZppBLSWPvPm5RFqNGsT3VbOV9abdavNh4Eemx_mqpmle-0qD6Kc7GmaXjEJyFxx48z7OV4eujp0E8gbjzWK4YrYOJRHcGZ1Bzdl_E7Sl3qTWPObE4te8sq6rtKoNyr1qk8TVMVvnHrv1-RUVo8HIWo3KwDdQSMDCuZZA8EJS0CvNC2_HCsgRwW-wl6f8CLCgxQ1gBmJgviGU3nE_ZFqf4uLM-mM2YDP6v43LTVtOAAqWlet-tqpnDhVa3k992HjwYgXgfAm4wPU4YqvjdXwu9edfDH0g4u7jJfMvgAmKMX0.F6E2hQ_XGpkuZT4rAKVJQ5kraswkRsT3UB5NuE1rVDY&dib_tag=se&keywords=data%2Banalysis%2Btshirt&qid=1720687211&sr=8-4&customId=B0752XJYNL&customizationToken=MC_Assembly_1%23B0752XJYNL&th=1'\n",
    "\n",
    "    headers={\"User-Agent\": \"Mozilla/5.0 (Windows NT 10.0; Win64; x64) AppleWebKit/537.36 (KHTML, like Gecko) Chrome/78.0.3904.108 Safari/537.36\", \"Accept-Encoding\":\"gzip, deflate\", \"Accept\":\"text/html,application/xhtml+xml,application/xml;q=0.9,*/*;q=0.8\", \"DNT\":\"1\",\"Connection\":\"close\", \"Upgrade-Insecure-Requests\":\"1\"}\n",
    "\n",
    "    page=requests.get(URL,headers=headers)\n",
    "\n",
    "    soup1=BeautifulSoup(page.content,'html.parser')\n",
    "\n",
    "    soup2=BeautifulSoup(soup1.prettify(),'html.parser')\n",
    "\n",
    "    title=soup2.find(id='productTitle').get_text()\n",
    "\n",
    "    price=soup2.find(class_='a-offscreen').get_text()\n",
    "\n",
    "    price=price.strip()[1:]\n",
    "    title=title.strip()\n",
    "\n",
    "    import datetime\n",
    "\n",
    "    today=datetime.date.today()\n",
    "\n",
    "    import csv\n",
    "\n",
    "    header=['Title','Price','Date']\n",
    "    data=[title,price,today]\n",
    "\n",
    "    if (price == 17.99):\n",
    "        send_mail()"
   ]
  },
  {
   "cell_type": "code",
   "execution_count": null,
   "id": "ade8f9ca-c3cd-437d-9f31-7ceecb5762ac",
   "metadata": {},
   "outputs": [],
   "source": [
    "import time\n",
    "while (True):\n",
    "    check_price()\n",
    "    time.sleep(86400)"
   ]
  },
  {
   "cell_type": "code",
   "execution_count": 17,
   "id": "7876e6a2-171e-4993-8e5b-f9d432f03fba",
   "metadata": {},
   "outputs": [
    {
     "name": "stdout",
     "output_type": "stream",
     "text": [
      "                                               Title  Price        Date\n",
      "0  Data Analyst I Back It Up With Data Programmer...   3.38  2024-07-11\n",
      "1  Data Analyst I Back It Up With Data Programmer...   3.38  2024-07-11\n",
      "2  Data Analyst I Back It Up With Data Programmer...   3.38  2024-07-11\n",
      "3  Data Analyst I Back It Up With Data Programmer...   3.38  2024-07-11\n",
      "4  Data Analyst I Back It Up With Data Programmer...   3.38  2024-07-11\n"
     ]
    }
   ],
   "source": [
    "import pandas as pd\n",
    "\n",
    "df=pd.read_csv(r'C:\\Users\\SAM MELKIN\\AmazonPriceScrapper.csv')\n",
    "\n",
    "print(df)"
   ]
  },
  {
   "cell_type": "code",
   "execution_count": 7,
   "id": "286dba92-65b4-41b1-89ad-f082ecc6c65d",
   "metadata": {},
   "outputs": [],
   "source": [
    "def send_mail():\n",
    "\n",
    "    import smtplib\n",
    "    from email.mime.multipart import MIMEMultipart\n",
    "    from email.mime.text import MIMEText\n",
    "\n",
    "    # Email configuration\n",
    "    sender_email = \"sammelkin1@gmail.com\"\n",
    "    receiver_email = \"melson1@gmail.com\"\n",
    "    password = \"xxxxxxxxxxxx\"\n",
    "\n",
    "    # Create the email subject and body\n",
    "    subject = \"The shirt you want is below $15! Now is your chance to buy!\"\n",
    "    body = \"Hey...Sam, This is the moment we have been waiting for. Now is your chance to pick up the shirt of your dreams. Don't mess it!\"\n",
    "\n",
    "    # Set up the MIME\n",
    "    message = MIMEMultipart()\n",
    "    message['From'] = sender_email\n",
    "    message['To'] = receiver_email\n",
    "    message['Subject'] = subject\n",
    "\n",
    "    # Add body to email\n",
    "    message.attach(MIMEText(body, 'plain'))\n",
    "\n",
    "    # Create the server connection\n",
    "    try:\n",
    "        server = smtplib.SMTP('smtp.gmail.com', 587)\n",
    "        server.starttls()  # Enable security\n",
    "        server.login(sender_email, password)\n",
    "    \n",
    "        # Send the email\n",
    "        text = message.as_string()\n",
    "        server.sendmail(sender_email, receiver_email, text)\n",
    "    \n",
    "        print(\"Email sent successfully!\")\n",
    "    except Exception as e:\n",
    "        print(f\"Failed to send email: {e}\")\n",
    "    finally:\n",
    "        server.quit()\n"
   ]
  },
  {
   "cell_type": "code",
   "execution_count": null,
   "id": "78d754b0-99c5-4e66-ab14-c79aae52e2f9",
   "metadata": {},
   "outputs": [],
   "source": []
  }
 ],
 "metadata": {
  "kernelspec": {
   "display_name": "Python 3 (ipykernel)",
   "language": "python",
   "name": "python3"
  },
  "language_info": {
   "codemirror_mode": {
    "name": "ipython",
    "version": 3
   },
   "file_extension": ".py",
   "mimetype": "text/x-python",
   "name": "python",
   "nbconvert_exporter": "python",
   "pygments_lexer": "ipython3",
   "version": "3.9.4"
  }
 },
 "nbformat": 4,
 "nbformat_minor": 5
}
